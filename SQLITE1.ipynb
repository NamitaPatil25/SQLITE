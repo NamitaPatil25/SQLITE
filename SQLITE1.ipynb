{
 "cells": [
  {
   "cell_type": "code",
   "execution_count": 1,
   "id": "4aa3e695",
   "metadata": {},
   "outputs": [],
   "source": [
    "import sqlite3"
   ]
  },
  {
   "cell_type": "code",
   "execution_count": 2,
   "id": "391d267a",
   "metadata": {},
   "outputs": [],
   "source": [
    "# Connect to the SQLite database (creates a new one if it doesn't exist)\n",
    "connection = sqlite3.connect('mydatabase.db')\n"
   ]
  },
  {
   "cell_type": "code",
   "execution_count": 3,
   "id": "1fc9e5a6",
   "metadata": {},
   "outputs": [],
   "source": [
    "# Create a cursor object to execute SQL commands\n",
    "cursor = connection.cursor()\n"
   ]
  },
  {
   "cell_type": "code",
   "execution_count": 4,
   "id": "cbe0ed8f",
   "metadata": {},
   "outputs": [
    {
     "data": {
      "text/plain": [
       "<sqlite3.Cursor at 0x22369ec6cc0>"
      ]
     },
     "execution_count": 4,
     "metadata": {},
     "output_type": "execute_result"
    }
   ],
   "source": [
    "# Create the 'Ages' table\n",
    "cursor.execute('''\n",
    "    CREATE TABLE IF NOT EXISTS Ages (\n",
    "        name VARCHAR(128),\n",
    "        age INTEGER\n",
    "    )\n",
    "''')"
   ]
  },
  {
   "cell_type": "code",
   "execution_count": 5,
   "id": "4b9198f9",
   "metadata": {},
   "outputs": [
    {
     "data": {
      "text/plain": [
       "<sqlite3.Cursor at 0x22369ec6cc0>"
      ]
     },
     "execution_count": 5,
     "metadata": {},
     "output_type": "execute_result"
    }
   ],
   "source": [
    "# Delete any rows previously inserted\n",
    "cursor.execute('DELETE FROM Ages')\n"
   ]
  },
  {
   "cell_type": "code",
   "execution_count": 6,
   "id": "4e728ed3",
   "metadata": {},
   "outputs": [
    {
     "data": {
      "text/plain": [
       "<sqlite3.Cursor at 0x22369ec6cc0>"
      ]
     },
     "execution_count": 6,
     "metadata": {},
     "output_type": "execute_result"
    }
   ],
   "source": [
    "# Insert the specified rows\n",
    "cursor.execute(\"INSERT INTO Ages (name, age) VALUES ('Mara', 28)\")\n",
    "cursor.execute(\"INSERT INTO Ages (name, age) VALUES ('Otto', 33)\")\n",
    "cursor.execute(\"INSERT INTO Ages (name, age) VALUES ('Fyn', 31)\")\n",
    "cursor.execute(\"INSERT INTO Ages (name, age) VALUES ('Neshawn', 17)\")\n"
   ]
  },
  {
   "cell_type": "code",
   "execution_count": 7,
   "id": "eeb037c5",
   "metadata": {},
   "outputs": [],
   "source": [
    "# Commit the changes\n",
    "connection.commit()\n"
   ]
  },
  {
   "cell_type": "code",
   "execution_count": 8,
   "id": "990f8d38",
   "metadata": {},
   "outputs": [
    {
     "name": "stdout",
     "output_type": "stream",
     "text": [
      "[('46796E3331',), ('4D6172613238',), ('4E65736861776E3137',), ('4F74746F3333',)]\n"
     ]
    }
   ],
   "source": [
    "# Run the specified SQL command\n",
    "cursor.execute(\"SELECT hex(name || age) AS X FROM Ages ORDER BY X\")\n",
    "result = cursor.fetchall()\n",
    "print(result)\n"
   ]
  },
  {
   "cell_type": "code",
   "execution_count": 9,
   "id": "2525eb86",
   "metadata": {},
   "outputs": [],
   "source": [
    "# Close the connection\n",
    "connection.close()\n",
    "\n"
   ]
  },
  {
   "cell_type": "code",
   "execution_count": null,
   "id": "62d89cfe",
   "metadata": {},
   "outputs": [],
   "source": []
  }
 ],
 "metadata": {
  "kernelspec": {
   "display_name": "Python 3 (ipykernel)",
   "language": "python",
   "name": "python3"
  },
  "language_info": {
   "codemirror_mode": {
    "name": "ipython",
    "version": 3
   },
   "file_extension": ".py",
   "mimetype": "text/x-python",
   "name": "python",
   "nbconvert_exporter": "python",
   "pygments_lexer": "ipython3",
   "version": "3.10.9"
  }
 },
 "nbformat": 4,
 "nbformat_minor": 5
}
